{
 "cells": [
  {
   "cell_type": "code",
   "execution_count": 102,
   "metadata": {},
   "outputs": [
    {
     "data": {
      "text/plain": [
       "True"
      ]
     },
     "execution_count": 102,
     "metadata": {},
     "output_type": "execute_result"
    }
   ],
   "source": [
    "import cv2\n",
    "import numpy as np\n",
    "\n",
    "def remove_lines_inpaint(img, lines):\n",
    "    mask = cv2.dilate(lines, np.ones((3,3), np.uint8), iterations=1)\n",
    "    return cv2.inpaint(img, mask, 3, cv2.INPAINT_TELEA)\n",
    "\n",
    "def preserve_text(original, processed):\n",
    "    diff = cv2.absdiff(original, processed)\n",
    "    _, mask = cv2.threshold(diff, 30, 255, cv2.THRESH_BINARY)\n",
    "    return cv2.bitwise_and(original, original, mask=mask) + processed\n",
    "\n",
    "\n",
    "def remove_lines(img, vertical_scale=80, horizontal_scale=90, dilation_iter=1):\n",
    "    gray = cv2.cvtColor(img, cv2.COLOR_BGR2GRAY)\n",
    "    ret, bw = cv2.threshold(gray, 0, 255, cv2.THRESH_OTSU | cv2.THRESH_BINARY_INV)\n",
    "\n",
    "    \n",
    "    # Define structure for vertical line detection\n",
    "    rows = bw.shape[0]\n",
    "    vertical_size = int(rows / vertical_scale)\n",
    "    verticalStructure = cv2.getStructuringElement(cv2.MORPH_RECT, (1, vertical_size))\n",
    "    \n",
    "    # Detect vertical lines\n",
    "    vertical_lines = cv2.erode(bw, verticalStructure)\n",
    "    vertical_lines = cv2.dilate(vertical_lines, verticalStructure, iterations=dilation_iter)\n",
    "    \n",
    "    # Define structure for horizontal line detection\n",
    "    cols = bw.shape[1]\n",
    "    horizontal_size = int(cols / horizontal_scale)\n",
    "    horizontalStructure = cv2.getStructuringElement(cv2.MORPH_RECT, (horizontal_size, 1))\n",
    "    \n",
    "    # Detect horizontal lines\n",
    "    horizontal_lines = cv2.erode(bw, horizontalStructure)\n",
    "    horizontal_lines = cv2.dilate(horizontal_lines, horizontalStructure, iterations=dilation_iter)\n",
    "    \n",
    "    # Combine vertical and horizontal lines\n",
    "    lines = cv2.add(vertical_lines, horizontal_lines)\n",
    "    \n",
    "    # Subtract lines from the original binary image to remove them\n",
    "    # filtered_image = cv2.subtract(bw, lines)\n",
    "    filtered_image = remove_lines_inpaint(cv2.bitwise_not(bw), lines)\n",
    "    # kernel = np.array([[-1,-1,-1], [-1,9,-1], [-1,-1,-1]])\n",
    "    # filtered_image = cv2.filter2D(filtered_image, -1, kernel)\n",
    "    \n",
    "    # Optionally, apply a bitwise not to invert the colors back\n",
    "    # filtered_image = cv2.bitwise_not(filtered_image)\n",
    "    # result = preserve_text(cv2.bitwise_not(bw), filtered_image)\n",
    "    \n",
    "    return filtered_image\n",
    "\n",
    "# Example usage:\n",
    "filename = r'C:\\Users\\arajaram\\OneDrive - Maryland Department of Transportation(MDOT)\\Desktop\\imgs\\Image0000003-0000.tif'\n",
    "img = cv2.imread(filename)\n",
    "filtered_img = remove_lines(img, vertical_scale=30, horizontal_scale=30, dilation_iter=1)\n",
    "cv2.imwrite('filtered_image.png', filtered_img)\n"
   ]
  }
 ],
 "metadata": {
  "kernelspec": {
   "display_name": "env",
   "language": "python",
   "name": "python3"
  },
  "language_info": {
   "codemirror_mode": {
    "name": "ipython",
    "version": 3
   },
   "file_extension": ".py",
   "mimetype": "text/x-python",
   "name": "python",
   "nbconvert_exporter": "python",
   "pygments_lexer": "ipython3",
   "version": "3.9.0"
  }
 },
 "nbformat": 4,
 "nbformat_minor": 2
}
